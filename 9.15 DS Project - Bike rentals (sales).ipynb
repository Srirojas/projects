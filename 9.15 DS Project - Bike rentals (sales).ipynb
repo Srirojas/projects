{
 "cells": [
  {
   "cell_type": "markdown",
   "id": "474b5c1a",
   "metadata": {},
   "source": [
    "### Determining the best machine learning algorithm"
   ]
  },
  {
   "cell_type": "code",
   "execution_count": 63,
   "id": "7cd40fb9",
   "metadata": {},
   "outputs": [],
   "source": [
    "import pandas as pd\n",
    "import numpy as np\n",
    "from matplotlib import pyplot as plt\n",
    "import seaborn as sns"
   ]
  },
  {
   "cell_type": "code",
   "execution_count": 64,
   "id": "a5c69b82",
   "metadata": {},
   "outputs": [],
   "source": [
    "df = pd.read_csv(r'C:\\Users\\Bharath Setty\\Desktop\\Sriraksha\\Data Science\\Datasets - for EDA - class given\\daily-bike-share - Sheet1.csv')"
   ]
  },
  {
   "cell_type": "code",
   "execution_count": 65,
   "id": "8c5cdd42",
   "metadata": {},
   "outputs": [
    {
     "data": {
      "text/html": [
       "<div>\n",
       "<style scoped>\n",
       "    .dataframe tbody tr th:only-of-type {\n",
       "        vertical-align: middle;\n",
       "    }\n",
       "\n",
       "    .dataframe tbody tr th {\n",
       "        vertical-align: top;\n",
       "    }\n",
       "\n",
       "    .dataframe thead th {\n",
       "        text-align: right;\n",
       "    }\n",
       "</style>\n",
       "<table border=\"1\" class=\"dataframe\">\n",
       "  <thead>\n",
       "    <tr style=\"text-align: right;\">\n",
       "      <th></th>\n",
       "      <th>instant</th>\n",
       "      <th>dteday</th>\n",
       "      <th>season</th>\n",
       "      <th>yr</th>\n",
       "      <th>mnth</th>\n",
       "      <th>holiday</th>\n",
       "      <th>weekday</th>\n",
       "      <th>workingday</th>\n",
       "      <th>weathersit</th>\n",
       "      <th>temp</th>\n",
       "      <th>atemp</th>\n",
       "      <th>hum</th>\n",
       "      <th>windspeed</th>\n",
       "      <th>rentals</th>\n",
       "    </tr>\n",
       "  </thead>\n",
       "  <tbody>\n",
       "    <tr>\n",
       "      <th>0</th>\n",
       "      <td>1</td>\n",
       "      <td>1/1/2011</td>\n",
       "      <td>1</td>\n",
       "      <td>0</td>\n",
       "      <td>1</td>\n",
       "      <td>0</td>\n",
       "      <td>6</td>\n",
       "      <td>0</td>\n",
       "      <td>2</td>\n",
       "      <td>0.344167</td>\n",
       "      <td>0.363625</td>\n",
       "      <td>0.805833</td>\n",
       "      <td>0.160446</td>\n",
       "      <td>331</td>\n",
       "    </tr>\n",
       "    <tr>\n",
       "      <th>1</th>\n",
       "      <td>2</td>\n",
       "      <td>1/2/2011</td>\n",
       "      <td>1</td>\n",
       "      <td>0</td>\n",
       "      <td>1</td>\n",
       "      <td>0</td>\n",
       "      <td>0</td>\n",
       "      <td>0</td>\n",
       "      <td>2</td>\n",
       "      <td>0.363478</td>\n",
       "      <td>0.353739</td>\n",
       "      <td>0.696087</td>\n",
       "      <td>0.248539</td>\n",
       "      <td>131</td>\n",
       "    </tr>\n",
       "    <tr>\n",
       "      <th>2</th>\n",
       "      <td>3</td>\n",
       "      <td>1/3/2011</td>\n",
       "      <td>1</td>\n",
       "      <td>0</td>\n",
       "      <td>1</td>\n",
       "      <td>0</td>\n",
       "      <td>1</td>\n",
       "      <td>1</td>\n",
       "      <td>1</td>\n",
       "      <td>0.196364</td>\n",
       "      <td>0.189405</td>\n",
       "      <td>0.437273</td>\n",
       "      <td>0.248309</td>\n",
       "      <td>120</td>\n",
       "    </tr>\n",
       "    <tr>\n",
       "      <th>3</th>\n",
       "      <td>4</td>\n",
       "      <td>1/4/2011</td>\n",
       "      <td>1</td>\n",
       "      <td>0</td>\n",
       "      <td>1</td>\n",
       "      <td>0</td>\n",
       "      <td>2</td>\n",
       "      <td>1</td>\n",
       "      <td>1</td>\n",
       "      <td>0.200000</td>\n",
       "      <td>0.212122</td>\n",
       "      <td>0.590435</td>\n",
       "      <td>0.160296</td>\n",
       "      <td>108</td>\n",
       "    </tr>\n",
       "    <tr>\n",
       "      <th>4</th>\n",
       "      <td>5</td>\n",
       "      <td>1/5/2011</td>\n",
       "      <td>1</td>\n",
       "      <td>0</td>\n",
       "      <td>1</td>\n",
       "      <td>0</td>\n",
       "      <td>3</td>\n",
       "      <td>1</td>\n",
       "      <td>1</td>\n",
       "      <td>0.226957</td>\n",
       "      <td>0.229270</td>\n",
       "      <td>0.436957</td>\n",
       "      <td>0.186900</td>\n",
       "      <td>82</td>\n",
       "    </tr>\n",
       "  </tbody>\n",
       "</table>\n",
       "</div>"
      ],
      "text/plain": [
       "   instant    dteday  season  yr  mnth  holiday  weekday  workingday  \\\n",
       "0        1  1/1/2011       1   0     1        0        6           0   \n",
       "1        2  1/2/2011       1   0     1        0        0           0   \n",
       "2        3  1/3/2011       1   0     1        0        1           1   \n",
       "3        4  1/4/2011       1   0     1        0        2           1   \n",
       "4        5  1/5/2011       1   0     1        0        3           1   \n",
       "\n",
       "   weathersit      temp     atemp       hum  windspeed  rentals  \n",
       "0           2  0.344167  0.363625  0.805833   0.160446      331  \n",
       "1           2  0.363478  0.353739  0.696087   0.248539      131  \n",
       "2           1  0.196364  0.189405  0.437273   0.248309      120  \n",
       "3           1  0.200000  0.212122  0.590435   0.160296      108  \n",
       "4           1  0.226957  0.229270  0.436957   0.186900       82  "
      ]
     },
     "execution_count": 65,
     "metadata": {},
     "output_type": "execute_result"
    }
   ],
   "source": [
    "df.head()"
   ]
  },
  {
   "cell_type": "code",
   "execution_count": 66,
   "id": "272474b0",
   "metadata": {},
   "outputs": [
    {
     "data": {
      "text/plain": [
       "yr\n",
       "1    366\n",
       "0    365\n",
       "Name: count, dtype: int64"
      ]
     },
     "execution_count": 66,
     "metadata": {},
     "output_type": "execute_result"
    }
   ],
   "source": [
    "df.yr.value_counts()"
   ]
  },
  {
   "cell_type": "code",
   "execution_count": 67,
   "id": "f69d284e",
   "metadata": {},
   "outputs": [
    {
     "data": {
      "text/plain": [
       "mnth\n",
       "1     62\n",
       "3     62\n",
       "5     62\n",
       "7     62\n",
       "8     62\n",
       "10    62\n",
       "12    62\n",
       "4     60\n",
       "6     60\n",
       "9     60\n",
       "11    60\n",
       "2     57\n",
       "Name: count, dtype: int64"
      ]
     },
     "execution_count": 67,
     "metadata": {},
     "output_type": "execute_result"
    }
   ],
   "source": [
    "df.mnth.value_counts()"
   ]
  },
  {
   "cell_type": "code",
   "execution_count": 68,
   "id": "181f19c0",
   "metadata": {},
   "outputs": [
    {
     "data": {
      "text/plain": [
       "holiday\n",
       "0    710\n",
       "1     21\n",
       "Name: count, dtype: int64"
      ]
     },
     "execution_count": 68,
     "metadata": {},
     "output_type": "execute_result"
    }
   ],
   "source": [
    "df['holiday'].value_counts()"
   ]
  },
  {
   "cell_type": "code",
   "execution_count": 69,
   "id": "1bbe5394",
   "metadata": {},
   "outputs": [
    {
     "data": {
      "text/plain": [
       "weekday\n",
       "6    105\n",
       "0    105\n",
       "1    105\n",
       "2    104\n",
       "3    104\n",
       "4    104\n",
       "5    104\n",
       "Name: count, dtype: int64"
      ]
     },
     "execution_count": 69,
     "metadata": {},
     "output_type": "execute_result"
    }
   ],
   "source": [
    "df['weekday'].value_counts()"
   ]
  },
  {
   "cell_type": "code",
   "execution_count": 70,
   "id": "ca693a6e",
   "metadata": {},
   "outputs": [
    {
     "data": {
      "text/plain": [
       "workingday\n",
       "1    500\n",
       "0    231\n",
       "Name: count, dtype: int64"
      ]
     },
     "execution_count": 70,
     "metadata": {},
     "output_type": "execute_result"
    }
   ],
   "source": [
    "df.workingday.value_counts()"
   ]
  },
  {
   "cell_type": "code",
   "execution_count": 71,
   "id": "3a5e93c5",
   "metadata": {},
   "outputs": [
    {
     "data": {
      "text/plain": [
       "weathersit\n",
       "1    463\n",
       "2    247\n",
       "3     21\n",
       "Name: count, dtype: int64"
      ]
     },
     "execution_count": 71,
     "metadata": {},
     "output_type": "execute_result"
    }
   ],
   "source": [
    "df.weathersit.value_counts()"
   ]
  },
  {
   "cell_type": "code",
   "execution_count": 72,
   "id": "b588c30c",
   "metadata": {},
   "outputs": [
    {
     "data": {
      "text/html": [
       "<div>\n",
       "<style scoped>\n",
       "    .dataframe tbody tr th:only-of-type {\n",
       "        vertical-align: middle;\n",
       "    }\n",
       "\n",
       "    .dataframe tbody tr th {\n",
       "        vertical-align: top;\n",
       "    }\n",
       "\n",
       "    .dataframe thead th {\n",
       "        text-align: right;\n",
       "    }\n",
       "</style>\n",
       "<table border=\"1\" class=\"dataframe\">\n",
       "  <thead>\n",
       "    <tr style=\"text-align: right;\">\n",
       "      <th></th>\n",
       "      <th>temp</th>\n",
       "      <th>atemp</th>\n",
       "      <th>hum</th>\n",
       "      <th>windspeed</th>\n",
       "    </tr>\n",
       "  </thead>\n",
       "  <tbody>\n",
       "    <tr>\n",
       "      <th>count</th>\n",
       "      <td>731.000000</td>\n",
       "      <td>731.000000</td>\n",
       "      <td>731.000000</td>\n",
       "      <td>731.000000</td>\n",
       "    </tr>\n",
       "    <tr>\n",
       "      <th>mean</th>\n",
       "      <td>0.495385</td>\n",
       "      <td>0.474354</td>\n",
       "      <td>0.627894</td>\n",
       "      <td>0.190486</td>\n",
       "    </tr>\n",
       "    <tr>\n",
       "      <th>std</th>\n",
       "      <td>0.183051</td>\n",
       "      <td>0.162961</td>\n",
       "      <td>0.142429</td>\n",
       "      <td>0.077498</td>\n",
       "    </tr>\n",
       "    <tr>\n",
       "      <th>min</th>\n",
       "      <td>0.059130</td>\n",
       "      <td>0.079070</td>\n",
       "      <td>0.000000</td>\n",
       "      <td>0.022392</td>\n",
       "    </tr>\n",
       "    <tr>\n",
       "      <th>25%</th>\n",
       "      <td>0.337083</td>\n",
       "      <td>0.337842</td>\n",
       "      <td>0.520000</td>\n",
       "      <td>0.134950</td>\n",
       "    </tr>\n",
       "    <tr>\n",
       "      <th>50%</th>\n",
       "      <td>0.498333</td>\n",
       "      <td>0.486733</td>\n",
       "      <td>0.626667</td>\n",
       "      <td>0.180975</td>\n",
       "    </tr>\n",
       "    <tr>\n",
       "      <th>75%</th>\n",
       "      <td>0.655417</td>\n",
       "      <td>0.608602</td>\n",
       "      <td>0.730209</td>\n",
       "      <td>0.233214</td>\n",
       "    </tr>\n",
       "    <tr>\n",
       "      <th>max</th>\n",
       "      <td>0.861667</td>\n",
       "      <td>0.840896</td>\n",
       "      <td>0.972500</td>\n",
       "      <td>0.507463</td>\n",
       "    </tr>\n",
       "  </tbody>\n",
       "</table>\n",
       "</div>"
      ],
      "text/plain": [
       "             temp       atemp         hum   windspeed\n",
       "count  731.000000  731.000000  731.000000  731.000000\n",
       "mean     0.495385    0.474354    0.627894    0.190486\n",
       "std      0.183051    0.162961    0.142429    0.077498\n",
       "min      0.059130    0.079070    0.000000    0.022392\n",
       "25%      0.337083    0.337842    0.520000    0.134950\n",
       "50%      0.498333    0.486733    0.626667    0.180975\n",
       "75%      0.655417    0.608602    0.730209    0.233214\n",
       "max      0.861667    0.840896    0.972500    0.507463"
      ]
     },
     "execution_count": 72,
     "metadata": {},
     "output_type": "execute_result"
    }
   ],
   "source": [
    "df[['temp','atemp','hum','windspeed']].describe()"
   ]
  },
  {
   "cell_type": "code",
   "execution_count": 73,
   "id": "7258208d",
   "metadata": {},
   "outputs": [],
   "source": [
    "# features = [season, mnth, holiday, weekday, workingday, weathersit - categorical columns(already encoded)], [temp, atemp, hum, windspeed - numerical coumns(already normalised)]   \n",
    "# target = rentals \n",
    "# rejected columns = intant, dteday, yr"
   ]
  },
  {
   "cell_type": "code",
   "execution_count": 74,
   "id": "40aed114",
   "metadata": {},
   "outputs": [
    {
     "data": {
      "text/plain": [
       "False"
      ]
     },
     "execution_count": 74,
     "metadata": {},
     "output_type": "execute_result"
    }
   ],
   "source": [
    "# missing values\n",
    "\n",
    "df.isnull().values.any()\n",
    "\n",
    "# from output we can see we do not have any missing values"
   ]
  },
  {
   "cell_type": "code",
   "execution_count": 75,
   "id": "7849f581",
   "metadata": {},
   "outputs": [
    {
     "name": "stdout",
     "output_type": "stream",
     "text": [
      "<class 'pandas.core.frame.DataFrame'>\n",
      "RangeIndex: 731 entries, 0 to 730\n",
      "Data columns (total 14 columns):\n",
      " #   Column      Non-Null Count  Dtype  \n",
      "---  ------      --------------  -----  \n",
      " 0   instant     731 non-null    int64  \n",
      " 1   dteday      731 non-null    object \n",
      " 2   season      731 non-null    int64  \n",
      " 3   yr          731 non-null    int64  \n",
      " 4   mnth        731 non-null    int64  \n",
      " 5   holiday     731 non-null    int64  \n",
      " 6   weekday     731 non-null    int64  \n",
      " 7   workingday  731 non-null    int64  \n",
      " 8   weathersit  731 non-null    int64  \n",
      " 9   temp        731 non-null    float64\n",
      " 10  atemp       731 non-null    float64\n",
      " 11  hum         731 non-null    float64\n",
      " 12  windspeed   731 non-null    float64\n",
      " 13  rentals     731 non-null    int64  \n",
      "dtypes: float64(4), int64(9), object(1)\n",
      "memory usage: 80.1+ KB\n"
     ]
    }
   ],
   "source": [
    "df.info()"
   ]
  },
  {
   "cell_type": "code",
   "execution_count": 76,
   "id": "75a8cf81",
   "metadata": {},
   "outputs": [],
   "source": [
    "# no objects, proceed further"
   ]
  },
  {
   "cell_type": "code",
   "execution_count": 78,
   "id": "e66717db",
   "metadata": {},
   "outputs": [],
   "source": [
    "X = df[['season','mnth','holiday','weekday','workingday','weathersit','temp','atemp','hum','windspeed']].values\n",
    "y = df.rentals.values"
   ]
  },
  {
   "cell_type": "code",
   "execution_count": 79,
   "id": "fa424910",
   "metadata": {},
   "outputs": [
    {
     "data": {
      "text/plain": [
       "array([[1.       , 1.       , 0.       , 6.       , 0.       , 2.       ,\n",
       "        0.344167 , 0.363625 , 0.805833 , 0.160446 ],\n",
       "       [1.       , 1.       , 0.       , 0.       , 0.       , 2.       ,\n",
       "        0.363478 , 0.353739 , 0.696087 , 0.248539 ],\n",
       "       [1.       , 1.       , 0.       , 1.       , 1.       , 1.       ,\n",
       "        0.196364 , 0.189405 , 0.437273 , 0.248309 ],\n",
       "       [1.       , 1.       , 0.       , 2.       , 1.       , 1.       ,\n",
       "        0.2      , 0.212122 , 0.590435 , 0.160296 ],\n",
       "       [1.       , 1.       , 0.       , 3.       , 1.       , 1.       ,\n",
       "        0.226957 , 0.22927  , 0.436957 , 0.1869   ],\n",
       "       [1.       , 1.       , 0.       , 4.       , 1.       , 1.       ,\n",
       "        0.204348 , 0.233209 , 0.518261 , 0.0895652],\n",
       "       [1.       , 1.       , 0.       , 5.       , 1.       , 2.       ,\n",
       "        0.196522 , 0.208839 , 0.498696 , 0.168726 ],\n",
       "       [1.       , 1.       , 0.       , 6.       , 0.       , 2.       ,\n",
       "        0.165    , 0.162254 , 0.535833 , 0.266804 ],\n",
       "       [1.       , 1.       , 0.       , 0.       , 0.       , 1.       ,\n",
       "        0.138333 , 0.116175 , 0.434167 , 0.36195  ],\n",
       "       [1.       , 1.       , 0.       , 1.       , 1.       , 1.       ,\n",
       "        0.150833 , 0.150888 , 0.482917 , 0.223267 ]])"
      ]
     },
     "execution_count": 79,
     "metadata": {},
     "output_type": "execute_result"
    }
   ],
   "source": [
    "X[:10]"
   ]
  },
  {
   "cell_type": "code",
   "execution_count": 80,
   "id": "99ff7dd3",
   "metadata": {},
   "outputs": [
    {
     "data": {
      "text/plain": [
       "array([331, 131, 120, 108,  82,  88, 148,  68,  54,  41], dtype=int64)"
      ]
     },
     "execution_count": 80,
     "metadata": {},
     "output_type": "execute_result"
    }
   ],
   "source": [
    "y[:10]"
   ]
  },
  {
   "cell_type": "code",
   "execution_count": 108,
   "id": "ede547b6",
   "metadata": {},
   "outputs": [
    {
     "name": "stdout",
     "output_type": "stream",
     "text": [
      "Requirement already satisfied: xgboost in c:\\users\\bharath setty\\anaconda3\\lib\\site-packages (2.0.3)\n",
      "Requirement already satisfied: numpy in c:\\users\\bharath setty\\anaconda3\\lib\\site-packages (from xgboost) (1.24.3)\n",
      "Requirement already satisfied: scipy in c:\\users\\bharath setty\\anaconda3\\lib\\site-packages (from xgboost) (1.11.1)\n"
     ]
    }
   ],
   "source": [
    "!pip install xgboost"
   ]
  },
  {
   "cell_type": "code",
   "execution_count": 111,
   "id": "72b5253d",
   "metadata": {},
   "outputs": [],
   "source": [
    "import xgboost as xgb\n",
    "\n",
    "from sklearn.linear_model import LinearRegression\n",
    "from sklearn.ensemble import RandomForestRegressor\n",
    "from sklearn.tree import DecisionTreeRegressor\n",
    "\n",
    "from sklearn.metrics import r2_score                # for linear regression algorithm"
   ]
  },
  {
   "cell_type": "code",
   "execution_count": 112,
   "id": "c0550821",
   "metadata": {},
   "outputs": [],
   "source": [
    "X_train, X_test, y_train, y_test = train_test_split(X, y, test_size=0.30, random_state=18)"
   ]
  },
  {
   "cell_type": "code",
   "execution_count": 113,
   "id": "70a88237",
   "metadata": {},
   "outputs": [],
   "source": [
    "model_xg2 = xgb.XGBRegressor().fit(X_train, y_train)         # boosting algorithm  # In xgb, I have the XGBRegressor\n",
    "\n",
    "model_lin2 = LinearRegression().fit(X_train, y_train)        # linear algorithm\n",
    "model_ran2 = RandomForestRegressor().fit(X_train, y_train)   # bagging \n",
    "model_dt2 = DecisionTreeRegressor().fit(X_train, y_train)    # decision tree"
   ]
  },
  {
   "cell_type": "code",
   "execution_count": 116,
   "id": "f22987f2",
   "metadata": {},
   "outputs": [
    {
     "name": "stdout",
     "output_type": "stream",
     "text": [
      "R2 for Linear Regression training: 0.63\n",
      "R2 for Linear Regression testing: 0.65\n"
     ]
    }
   ],
   "source": [
    "# now the model is trained, let me check the accuracy of the linear regression model\n",
    "\n",
    "predictions_train = model_lin2.predict(X_train)\n",
    "predictions_test = model_lin2.predict(X_test)\n",
    "\n",
    "r2_train = r2_score(y_train, predictions_train)\n",
    "r2_test = r2_score(y_test, predictions_test)\n",
    "\n",
    "print('R2 for Linear Regression training:', round(r2_train,2))\n",
    "print('R2 for Linear Regression testing:', round(r2_test,2))\n",
    "     \n",
    "# print('Error for Linear Regression training:', round(1-r2_train,2))\n",
    "# print('Error for Linear Regression testing:', round(1-r2_test,2))\n"
   ]
  },
  {
   "cell_type": "code",
   "execution_count": null,
   "id": "0267a173",
   "metadata": {},
   "outputs": [],
   "source": [
    "# for linear regression, I can test on both my training & testing dataset but we should prefer testing dataset\n",
    "# higher the r2_score, higher is the performance of the model\n"
   ]
  },
  {
   "cell_type": "code",
   "execution_count": 117,
   "id": "0eb45032",
   "metadata": {},
   "outputs": [
    {
     "name": "stdout",
     "output_type": "stream",
     "text": [
      "R2 for Decision Tree training: 1.0\n",
      "R2 for Decision Tree testing: 0.53\n"
     ]
    }
   ],
   "source": [
    "# checking accuracy of decision tree model\n",
    "\n",
    "predictions_train = model_dt2.predict(X_train)\n",
    "predictions_test = model_dt2.predict(X_test)\n",
    "\n",
    "r2_train = r2_score(y_train, predictions_train)\n",
    "r2_test = r2_score(y_test, predictions_test)\n",
    "\n",
    "print('R2 for Decision Tree training:', round(r2_train,2))\n",
    "print('R2 for Decision Tree testing:', round(r2_test,2))\n",
    "     \n",
    "# print('Error for Decision Tree training:', round(1-r2_train,2))\n",
    "# print('Error for Decision Tree testing:', round(1-r2_test,2))\n"
   ]
  },
  {
   "cell_type": "code",
   "execution_count": 118,
   "id": "8b10f3bf",
   "metadata": {},
   "outputs": [],
   "source": [
    "# my decision tree model is working well with the training dataset but is not giving good result with the testing dataset\n"
   ]
  },
  {
   "cell_type": "code",
   "execution_count": 120,
   "id": "cdb8aa3c",
   "metadata": {},
   "outputs": [
    {
     "name": "stdout",
     "output_type": "stream",
     "text": [
      "R2 for Bagging Random Forest training: 0.97\n",
      "R2 for Bagging Random Forest testing: 0.79\n"
     ]
    }
   ],
   "source": [
    "# checking accuracy of random forest model\n",
    "\n",
    "predictions_train = model_ran2.predict(X_train)\n",
    "predictions_test = model_ran2.predict(X_test)\n",
    "\n",
    "r2_train = r2_score(y_train, predictions_train)\n",
    "r2_test = r2_score(y_test, predictions_test)\n",
    "\n",
    "print('R2 for Bagging Random Forest training:', round(r2_train,2))\n",
    "print('R2 for Bagging Random Forest testing:', round(r2_test,2))\n",
    "     \n",
    "# print('Error for Bagging Random Forest training:', round(1-r2_train,2))\n",
    "# print('Error for Bagging Random Forest testing:', round(1-r2_test,2))\n"
   ]
  },
  {
   "cell_type": "code",
   "execution_count": 121,
   "id": "550839a6",
   "metadata": {},
   "outputs": [],
   "source": [
    "# for bagging the training dataset accuracy is better than decision tree & linear algorithm"
   ]
  },
  {
   "cell_type": "code",
   "execution_count": 122,
   "id": "328553b6",
   "metadata": {},
   "outputs": [
    {
     "name": "stdout",
     "output_type": "stream",
     "text": [
      "R2 for XGBOOST  training: 1.0\n",
      "R2 for XGBOOST testing: 0.76\n"
     ]
    }
   ],
   "source": [
    "# checking accuracy of Xgboost model\n",
    "\n",
    "predictions_train = model_xg2.predict(X_train)\n",
    "predictions_test = model_xg2.predict(X_test)\n",
    "\n",
    "r2_train = r2_score(y_train, predictions_train)\n",
    "r2_test = r2_score(y_test, predictions_test)\n",
    "\n",
    "print('R2 for XGBOOST  training:', round(r2_train,2))\n",
    "print('R2 for XGBOOST testing:', round(r2_test,2))\n",
    "     \n",
    "# print('Error for XGBOOST training:', round(1-r2_train,2))\n",
    "# print('Error for XGBOOST testing:', round(1-r2_test,2))\n"
   ]
  },
  {
   "cell_type": "markdown",
   "id": "bbac687c",
   "metadata": {},
   "source": [
    "INFERENCE : \n",
    "\n",
    "We can observe that Linear Regression, Random Forest & Xgboost algorithm are best fitting model for this data. \n",
    "\n",
    "'Among all the 3 algorithms Random Forest Algorithm is giving better accuracy'\n",
    "\n",
    "So its always better to perform 'COMPARITIVE STUDY of algorithms' to check which algorithm is performing better.\n"
   ]
  }
 ],
 "metadata": {
  "kernelspec": {
   "display_name": "Python 3 (ipykernel)",
   "language": "python",
   "name": "python3"
  },
  "language_info": {
   "codemirror_mode": {
    "name": "ipython",
    "version": 3
   },
   "file_extension": ".py",
   "mimetype": "text/x-python",
   "name": "python",
   "nbconvert_exporter": "python",
   "pygments_lexer": "ipython3",
   "version": "3.11.5"
  }
 },
 "nbformat": 4,
 "nbformat_minor": 5
}
